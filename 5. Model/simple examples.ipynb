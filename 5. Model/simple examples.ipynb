{
 "cells": [
  {
   "cell_type": "code",
   "execution_count": 1,
   "metadata": {},
   "outputs": [],
   "source": [
    "# number of scenarios, here is 2\n",
    "S = 2\n",
    "\n",
    "# number of poential charging staion locations\n",
    "I = 4\n",
    "\n",
    "# number of cars \n",
    "H = 5\n",
    "\n",
    "# 4 time intervals within an hour \n",
    "T = 4\n",
    "\n",
    "# Fixed cost of each charging station\n",
    "station_cost = 1\n",
    "\n",
    "# Purchasing cost of each car\n",
    "car_cost = 1\n",
    "\n",
    "# Income of each accepted trip\n",
    "income_per_car = 20\n",
    "\n",
    "# Capacity of each charging station, i.e. number of charging slots can be built at each charging station\n",
    "capacity = 10"
   ]
  },
  {
   "cell_type": "code",
   "execution_count": 2,
   "metadata": {},
   "outputs": [],
   "source": [
    "import pandas as pd\n",
    "# Define the nodes in the graph\n",
    "root = 'root'\n",
    "sink = 'sink'\n",
    "\n",
    "V = [(s, i, t) for s in range(S) for i in range(I) for t in range(T)] + [sink] \n",
    "\n",
    "# Waiting arcs\n",
    "waiting_arcs = [(s, (i, t), (i, t+1)) for s in range(S) for i in range(I) for t in range(T)]\n",
    "\n",
    "# Travel arcs\n",
    "path1 = r\"C:\\Users\\yanzh\\Desktop\\code_and_data\\5. Model\\sample_trips_data_1.csv\"\n",
    "df1 = pd.read_csv(path1)\n",
    "path2 = r\"C:\\Users\\yanzh\\Desktop\\code_and_data\\5. Model\\sample_trips_data_2.csv\"\n",
    "df2 = pd.read_csv(path2)\n",
    "dfs = {0: df1, 1: df2}\n",
    "travel_arcs = []\n",
    "for s, data in dfs.items():\n",
    "    for k in range(len(data)):\n",
    "        row = data.iloc[k]\n",
    "        starting_point = row[\"starting_point\"]\n",
    "        starting_date = row[\"starting_date\"]\n",
    "        ending_point = row[\"ending_point\"]\n",
    "        ending_date = row[\"ending_date\"]\n",
    "        arcs = (s, k, (starting_point, starting_date), (ending_point, ending_date))\n",
    "        travel_arcs.append(arcs)\n",
    "        \n",
    "# Final collection arcs\n",
    "final_collection_arcs = [(s, (i, T), sink) for s in range(S) for i in range(I)]"
   ]
  },
  {
   "cell_type": "code",
   "execution_count": 3,
   "metadata": {},
   "outputs": [
    {
     "name": "stdout",
     "output_type": "stream",
     "text": [
      "Set parameter Username\n",
      "Academic license - for non-commercial use only - expires 2025-04-08\n"
     ]
    }
   ],
   "source": [
    "import gurobipy as gp\n",
    "from gurobipy import Model, GRB, quicksum\n",
    "import pandas as pd \n",
    "\n",
    "# Initialize the model\n",
    "m = Model('CSLP')\n",
    "\n",
    "\n",
    "# First stage decision variable\n",
    "y_i = m.addVars(range(4), vtype=GRB.BINARY, name='build_variable')\n",
    "L_i = m.addVars(range(4), vtype=GRB.INTEGER, name='purchased_car', lb=0, ub=5)"
   ]
  },
  {
   "cell_type": "code",
   "execution_count": 4,
   "metadata": {},
   "outputs": [],
   "source": [
    "# Second stage decision variale\n",
    "x_k = m.addVars([(s, k) for s in range(S) for k in range(len(dfs[s]))], vtype=GRB.BINARY, name='accpted_trip')"
   ]
  },
  {
   "cell_type": "code",
   "execution_count": 5,
   "metadata": {},
   "outputs": [],
   "source": [
    "# Initialize f_ha as a dictionary\n",
    "f_ha = {}\n",
    "\n",
    "# Process waiting_arcs and final_collection_arcs\n",
    "for arc in waiting_arcs + final_collection_arcs:\n",
    "    s, src, dst = arc  # These are tuples (s, src, dst)\n",
    "    for h in range(H):\n",
    "        f_ha[(s, h, arc)] = m.addVar(vtype=GRB.BINARY, name=f'flow_realized_by_car_{s}_{h}_{src}_{dst}')\n",
    "\n",
    "# Process travel_arcs\n",
    "for arc in travel_arcs:\n",
    "    s, k, src, dst = arc  # These are quadruples (s, k, src, dst)\n",
    "    for h in range(H):\n",
    "        f_ha[(s, h, arc)] = m.addVar(vtype=GRB.BINARY, name=f'flow_realized_by_car_{s}_{h}_{src}_{dst}')\n"
   ]
  },
  {
   "cell_type": "code",
   "execution_count": 6,
   "metadata": {},
   "outputs": [],
   "source": [
    "x_hk = m.addVars([(s, k, h) for s in range(S) for h in range(H) for k in range(len(dfs[s]))], vtype=GRB.BINARY, name='trip_realized_by_car')"
   ]
  },
  {
   "cell_type": "code",
   "execution_count": 7,
   "metadata": {},
   "outputs": [],
   "source": [
    "# Precompute incoming arcs for each (s, i, t)\n",
    "incoming_arcs_dict = { (s, i, t): [] for s in range(S) for i in range(I) for t in range(T + 1) }\n",
    "outgoing_arcs_dict = { (s, i, t): [] for s in range(S) for i in range(I) for t in range(T) }\n",
    "\n",
    "for arc in waiting_arcs:\n",
    "    s, src, dst = arc\n",
    "    if (s, dst[0], dst[1]) in incoming_arcs_dict:\n",
    "        incoming_arcs_dict[(s, dst[0], dst[1])].append(arc)\n",
    "    if (s, src[0], src[1]) in outgoing_arcs_dict:   \n",
    "        outgoing_arcs_dict[(s, src[0], src[1])].append(arc)\n",
    "\n",
    "for arc in travel_arcs:\n",
    "    s, k, src, dst = arc\n",
    "    if (s, dst[0], dst[1]) in incoming_arcs_dict:\n",
    "        incoming_arcs_dict[(s, dst[0], dst[1])].append(arc)\n",
    "    if (s, src[0], src[1]) in outgoing_arcs_dict:\n",
    "        outgoing_arcs_dict[(s, src[0], src[1])].append(arc)"
   ]
  },
  {
   "cell_type": "markdown",
   "metadata": {},
   "source": [
    "$$\n",
    "\\text{max} \\quad \\sum_{s \\in S} p_s \\sum_{k \\in K^s} i_k x_k - \\sum_{i \\in I} f_i y_i - c \\sum_{i \\in I} L_i\n",
    "$$\n"
   ]
  },
  {
   "cell_type": "code",
   "execution_count": 8,
   "metadata": {},
   "outputs": [],
   "source": [
    "total_demand_level = [0.5, 0.5]\n",
    "# Objective function: maimize profit\n",
    "m.setObjective(\n",
    "    quicksum(\n",
    "        total_demand_level[s] * quicksum(income_per_car * x_k[s, k] for k in range(len(dfs[s])))\n",
    "        for s in range(S)\n",
    "    ) -\n",
    "    quicksum(station_cost * y_i[i] for i in range(I)) -\n",
    "    car_cost * quicksum(L_i[i] for i in range(I)),\n",
    "    GRB.MAXIMIZE\n",
    ")"
   ]
  },
  {
   "cell_type": "markdown",
   "metadata": {},
   "source": [
    "#### Constraint 3.2\n",
    "$$\\sum_{i\\in I}{f_i y_i + c\\sum_{i\\in I} L_i} \\leq W$$\n",
    "\n",
    "This is the budget constraint, $W$ is the limited budget for all costs."
   ]
  },
  {
   "cell_type": "code",
   "execution_count": 9,
   "metadata": {},
   "outputs": [
    {
     "data": {
      "text/plain": [
       "<gurobi.Constr *Awaiting Model Update*>"
      ]
     },
     "execution_count": 9,
     "metadata": {},
     "output_type": "execute_result"
    }
   ],
   "source": [
    "# Budget constraints\n",
    "budget = 1000\n",
    "m.addConstr(\n",
    "    station_cost * quicksum(y_i[i] for i in range(I)) + \n",
    "    car_cost * quicksum(L_i[i] for i in range(I)) <= budget,\n",
    "    name='budget_constraint'\n",
    ")"
   ]
  },
  {
   "cell_type": "markdown",
   "metadata": {},
   "source": [
    "#### Constraint 3.3"
   ]
  },
  {
   "cell_type": "markdown",
   "metadata": {},
   "source": [
    "$$\n",
    "\\sum_{i \\in I} L_i \\leq N \\tag{1} \n",
    "$$\n"
   ]
  },
  {
   "cell_type": "code",
   "execution_count": 10,
   "metadata": {},
   "outputs": [
    {
     "data": {
      "text/plain": [
       "<gurobi.Constr *Awaiting Model Update*>"
      ]
     },
     "execution_count": 10,
     "metadata": {},
     "output_type": "execute_result"
    }
   ],
   "source": [
    "# # Total number of cars should be fixed as 5 cars\n",
    "m.addConstr(quicksum(L_i[i] for i in range(I)) <= H, name='total_number_of_cars')\n"
   ]
  },
  {
   "cell_type": "markdown",
   "metadata": {},
   "source": [
    "### Constraints 3.4 Battery Limitation"
   ]
  },
  {
   "cell_type": "markdown",
   "metadata": {},
   "source": [
    "### Constraints 3.5 initial allocation\n",
    "$$\n",
    "\\sum_{h=1}^H \\sum_{a \\in \\delta^{+}\\left(i_0\\right)} f_a^h = L_i y_i \\qquad \\quad \\forall s \\in S, \\quad \\forall i_0 \\in V_0^s \n",
    "$$\n",
    "\n",
    "Constraints \\ref{equ:initial allocation} impose restrictions on nodes $i_0$, which represents node $i$ of TLG in the initial state ($t=0$), and $V_0^s$ represents the nodes at the initial time $t=0$ within the scenario $s$. Specifically, the sum of all arcs originating from built charging station $i$, including both waiting arcs and traveling arcs, must equal the initial number of cars at charging station $i$. These constraints can guarantee that each purchased car is first allocated to its corresponding built charging station."
   ]
  },
  {
   "cell_type": "code",
   "execution_count": 11,
   "metadata": {},
   "outputs": [],
   "source": [
    "# Ensure that the initial number of cars at each station equals the outgoing flow at t=0\n",
    "for i in range(I):\n",
    "    for s in range(S):\n",
    "        outgoing_arcs = outgoing_arcs_dict[(s, i, 0)]\n",
    "        if outgoing_arcs:\n",
    "            m.addConstr(\n",
    "                quicksum(f_ha[(s, h, arc)] for h in range(H) for arc in outgoing_arcs if (s, h, arc) in f_ha) == L_i[i] * y_i[i],\n",
    "                name=f\"initial_flow_station_{i}_scenario_{s}\"\n",
    "            )\n",
    "        else:\n",
    "            print(f\"No outgoing arcs for station {i}, scenario {s} at t=0\")"
   ]
  },
  {
   "cell_type": "markdown",
   "metadata": {},
   "source": [
    "### Constraints 3.6\n",
    "\n",
    "$$\\sum_{h=1}^H x_k^h = x_k, \\qquad\\forall s \\in S, k \\in K^s $$\n",
    "\n",
    "It ensures that exactly one car is assigned to each accepted trip."
   ]
  },
  {
   "cell_type": "code",
   "execution_count": 12,
   "metadata": {},
   "outputs": [],
   "source": [
    "# Constraint: one car per accepted trip\n",
    "for s in range(S):\n",
    "    for k in range(len(dfs[s])):\n",
    "        m.addConstr(\n",
    "            quicksum(x_hk[s, k, h] for h in range(H)) == x_k[s, k], \n",
    "            name=f\"one_car_per_accepted_trip_s{s}_k{k}\"\n",
    "        )"
   ]
  },
  {
   "cell_type": "markdown",
   "metadata": {},
   "source": [
    "### Constraints 3.7\n",
    "\n",
    "$$\n",
    "\\sum_{h \\in H} \\sum_{k \\in K^s : o_k = i, s_k = 0} x_k^h \\leq L_i y_i, \\qquad \\forall i \\in I, \\quad \\forall s \\in S\n",
    "$$"
   ]
  },
  {
   "cell_type": "code",
   "execution_count": 13,
   "metadata": {},
   "outputs": [],
   "source": [
    "# Add the constraint to ensure that the number of trips assigned to each station at t=0 does not exceed the number of cars at that station.\n",
    "for i in range(I):\n",
    "    for s in range(S):\n",
    "        # Create a constraint for each station and scenario at t=0\n",
    "        m.addConstr(\n",
    "            quicksum(x_hk[s, k, h] for h in range(H) for k in range(len(dfs[s])) \n",
    "                     if dfs[s].iloc[k]['starting_point'] == i and dfs[s].iloc[k]['starting_date'] == 0) <= L_i[i] * y_i[i],\n",
    "            name=f'trip_assignment_limit_station_{i}_scenario_{s}'\n",
    "        )"
   ]
  },
  {
   "cell_type": "markdown",
   "metadata": {},
   "source": [
    "### Constrain 3.8\n",
    "\n",
    "$$\\sum_{h=1}^H \\sum_{a \\in \\delta^{+}\\left(i_t\\right) \\cap\\left(A_W^s \\cup A_C^s\\right)} f_a^h \\leq C_i y_i \\qquad \\forall s \\in S, \\quad\\forall i_t \\in V^s \\backslash\\left\\{r^s, s^s\\right\\}$$\n",
    "\n",
    "It ensures that the quantity of vehicles concurrently parked at station $i$ does not surpass the available number of charging slots at said station.\n",
    "Observe that final collection arcs need to be considered on the left-hand side to ensure that the capacity constraints are also met at the end of the planning period."
   ]
  },
  {
   "cell_type": "code",
   "execution_count": 14,
   "metadata": {},
   "outputs": [],
   "source": [
    "# Capacity constraints\n",
    "for s in range(S):\n",
    "    for i in range(I):\n",
    "        # Directly handling the final collection arcs to 'sink'\n",
    "        final_arc_key = (s, (i, T), 'sink')\n",
    "        m.addConstr(\n",
    "            quicksum(f_ha[(s, h, final_arc_key)] for h in range(H) if (s, h, final_arc_key) in f_ha) <= capacity * y_i[i], \n",
    "            name=f'capacity_collection_arcs_s{s}_i{i}'\n",
    "        )\n",
    "\n",
    "        for t in range(T):\n",
    "           # Filter and append arcs relevant to the current (s, i, t) \n",
    "           outgoing_waiting_arcs = [(s_arc, src, dst) for s_arc, src, dst in waiting_arcs if s_arc == s and src == (i, t)]\n",
    "\n",
    "           # Filter arcs that are in f_ha\n",
    "           valid_outgoing_arcs = [arc for arc in outgoing_waiting_arcs if any((s, h, arc) in f_ha for h in range(H))]\n",
    "           \n",
    "           # Add constraint\n",
    "           m.addConstr(quicksum(f_ha[(s, h, arc)] for h in range(H) for arc in valid_outgoing_arcs) <= capacity * y_i[i], name=f'capacity_waiting_arcs_s{s}_i{i}_t{t}')      "
   ]
  },
  {
   "cell_type": "markdown",
   "metadata": {},
   "source": [
    "### Constraints 3.9\n",
    "\n",
    "$$    f^h[\\delta^{-}\\left(i_t\\right)] \\leq y_i \\quad \\forall h \\in\\{1,2, \\ldots, H\\}, \\quad \\forall s \\in S, \\quad \\forall i_t \\in V^s \\backslash\\left\\{r^s, s^s\\right\\}$$\n",
    "\n",
    "It ensures that car can only enter the built station. It includes waiting arcs (cars only car wait at the built station), and traveling arcs (cars can only park at the built station)"
   ]
  },
  {
   "cell_type": "code",
   "execution_count": 15,
   "metadata": {},
   "outputs": [],
   "source": [
    "for s in range(S):\n",
    "    for i in range(I):\n",
    "        for t in range(1, T+1):\n",
    "            # Given s, i, t, a specific waiting arc can be identified\n",
    "            incoming_arcs = incoming_arcs_dict[(s, i, t)]\n",
    "\n",
    "            for h in range(H): # Ensure the constraint is applied for each car h\n",
    "                # Add the combined constraint\n",
    "                if incoming_arcs:\n",
    "                    m.addConstr(\n",
    "                        quicksum(f_ha[(s, h, arc)] for arc in incoming_arcs if (s, h, arc) in f_ha) <= y_i[i],\n",
    "                        name=f'only_enter_built_station_s{s}_i{i}_t{t}_h{h}'\n",
    "                    )"
   ]
  },
  {
   "cell_type": "markdown",
   "metadata": {},
   "source": [
    "### Constraint 3.10\n",
    "\n",
    "$$f^h\\left[\\delta^{-}\\left(i_t\\right)\\right]=f^h\\left[\\delta^{+}\\left(i_t\\right)\\right] \\quad \\forall h \\in\\{1,2, \\ldots, H\\}, \\quad\\forall s \\in S, \\quad\\forall i_t \\in V^s \\backslash\\left\\{r^s, s^s\\right\\}$$\n",
    "\n",
    "Flow conservation ensures that the route of each car must correspond to a path through the time-expanded location graph for each scenario"
   ]
  },
  {
   "cell_type": "code",
   "execution_count": 16,
   "metadata": {},
   "outputs": [],
   "source": [
    "# Flow conservation constraint\n",
    "for s in range(S):\n",
    "    for i in range(I):\n",
    "        for t in range(T):    \n",
    "            if (i, t) == (i, 0):\n",
    "                continue # Skip starting point\n",
    "\n",
    "            incoming_arcs = incoming_arcs_dict[(s, i, t)]\n",
    "            outgoing_arcs = outgoing_arcs_dict[(s, i, t)]\n",
    "\n",
    "            for h in range(H):\n",
    "                m.addConstr(\n",
    "                    quicksum(f_ha[(s, h, arc)] for arc in incoming_arcs if (s, h, arc) in f_ha) ==\n",
    "                    quicksum(f_ha[(s, h, arc)] for arc in outgoing_arcs if (s, h, arc) in f_ha),\n",
    "                    name=f\"flow_conservation_s{s}_i{i}_t{t}_h{h}\"\n",
    "                )"
   ]
  },
  {
   "cell_type": "markdown",
   "metadata": {},
   "source": [
    "### Constraint 3.11\n",
    "\n",
    "$$\\sum_{a \\in A_{T}^s(k)} f_a^h=x_k^h \\quad \\forall h \\in\\{1,2, \\ldots, H\\}, \\quad \\forall s \\in S, \\quad \\forall k \\in K^s$$\n",
    "\n",
    "This equation illustrates all action of one car."
   ]
  },
  {
   "cell_type": "code",
   "execution_count": 17,
   "metadata": {},
   "outputs": [],
   "source": [
    "# Precompute travel arcs for each scenario and trip\n",
    "travel_arcs_per_scenario_trip = {\n",
    "    (s, k): [arc for arc in travel_arcs if arc[0] == s and arc[1] == k]\n",
    "    for s in range(S)\n",
    "    for k in range(len(dfs[s]))\n",
    "}\n",
    "\n",
    "# Add constraints to ensure all actions of one car\n",
    "for s in range(S):\n",
    "    for k in range(len(dfs[s])):\n",
    "        relevant_arcs = travel_arcs_per_scenario_trip[(s, k)]\n",
    "        for h in range(H):\n",
    "            m.addConstr(\n",
    "                quicksum(f_ha[(s, h, arc)] for arc in relevant_arcs if (s, h, arc) in f_ha) == x_hk[s, k, h],\n",
    "                name=f'all_action_one_car_s{s}_k{k}_h{h}'\n",
    "            )"
   ]
  },
  {
   "cell_type": "markdown",
   "metadata": {},
   "source": [
    "### Constraint 3.12\n",
    "\n",
    "$$ f_a^h \\leq f_{a^{\\prime}}^h \\\\\n",
    "\n",
    "\\forall h \\in\\{1,2, \\ldots, H\\}, \\forall s \\in S, \\forall k \\in K^s, \\\\\n",
    "\\forall a=\\left(i_{s_k}, j_{e_k}\\right) \\in A_{\\mathrm{T}}^s(k), \\\\\n",
    "\\forall a^{\\prime}=\\left(j_t, j_{t^{\\prime}}\\right) \\in A_{W}^s, \\\\\n",
    "t = e_k, t^{\\prime} = e_k+\\left\\lceil\\frac{b_k}{\\rho}\\right\\rceil $$\n",
    "\n",
    "This equation force each car must fully charge the battery after completing the service."
   ]
  },
  {
   "cell_type": "code",
   "execution_count": 18,
   "metadata": {},
   "outputs": [],
   "source": [
    "# # 假定完全充电时间为15分钟\n",
    "# fully_charging_time = 1\n",
    "\n",
    "# # 遍历所有场景\n",
    "# for s in range(S):\n",
    "#     # 从 dfs 中获取场景 s 的需求列表\n",
    "#     for k in range(len(dfs[s])):  # 确保使用 len(dfs[s]) 以处理每个场景的具体需求数量\n",
    "#         # 获取场景 s 的所有旅行弧\n",
    "#         AT_arcs = [(s_arc, k, src, dst) for s_arc, k, src, dst in travel_arcs if s_arc == s]\n",
    "#         if AT_arcs:\n",
    "#             for h in range(H):\n",
    "#                 # 获取特定需求 k 的旅行弧\n",
    "#                 at_arc = AT_arcs[k]\n",
    "#                 dp = at_arc[3][0]  # 目的地点\n",
    "#                 et = at_arc[3][1]  # 结束时间\n",
    "\n",
    "#                 t = et\n",
    "#                 t_prime = t + fully_charging_time  # 计算需要的充电结束时间\n",
    "\n",
    "#                 # 查找对应的等待弧，时间和地点都要匹配\n",
    "#                 AW_arcs = [(s_arc, src, dst) for s_arc, src, dst in waiting_arcs if s_arc == s and src[1] == t and src[0] == dp]\n",
    "\n",
    "#                 # 为每一个符合条件的等待弧添加约束\n",
    "#                 for aw_arc in AW_arcs:\n",
    "#                     travel_key = (s, h, at_arc)\n",
    "#                     waiting_key = (s, h, aw_arc)\n",
    "#                     if travel_key in f_ha and waiting_key in f_ha:\n",
    "#                         m.addConstr(f_ha[travel_key] <= f_ha[waiting_key], name=f\"charging_constraint_s{s}_k{k}_h{h}_arct{at_arc}_arcw{aw_arc}\")\n",
    "#                     else:\n",
    "#                         print(f\"Keys not found in f_ha for travel arc {travel_key} or waiting arc {waiting_key}\")\n"
   ]
  },
  {
   "cell_type": "code",
   "execution_count": 23,
   "metadata": {},
   "outputs": [],
   "source": [
    "fully_charging_time = 1  # 充电时间为15分钟\n",
    "\n",
    "for s in range(S):\n",
    "    for k in range(len(dfs[s])):  # 处理每个场景的需求量\n",
    "        # 获取场景 s 的所有旅行弧\n",
    "        AT_arcs = [(s_arc, k, src, dst) for s_arc, k, src, dst in travel_arcs if s_arc == s]\n",
    "        \n",
    "        if AT_arcs:\n",
    "            for h in range(H):\n",
    "                # 获取特定需求 k 的旅行弧\n",
    "                at_arc = AT_arcs[k]\n",
    "                dp = at_arc[3][0]  # 目的地点\n",
    "                et = at_arc[3][1]  # 结束时间\n",
    "\n",
    "                # 为每一个旅行弧添加连续的等待时间弧，直到完全充电时间或达到总时间 T\n",
    "                for minute in range(fully_charging_time):\n",
    "                    t_start = et + minute\n",
    "                    t_end = t_start + 1\n",
    "\n",
    "                    # 如果 t_end 达到或超过 T，则停止添加该旅行弧的更多等待时间弧\n",
    "                    if t_end >= T:\n",
    "                        break\n",
    "\n",
    "                    AW_arc = (s, (dp, t_start), (dp, t_end))  # 定义等待弧\n",
    "\n",
    "                    # 检查是否每个等待弧都在 f_ha 中\n",
    "                    if (s, h, at_arc) in f_ha and (s, h, AW_arc) in f_ha:\n",
    "                        # 为每个旅行弧和对应的等待弧添加流量约束\n",
    "                        m.addConstr(f_ha[(s, h, at_arc)] <= f_ha[(s, h, AW_arc)], \n",
    "                                    name=f\"charging_constraint_s{s}_k{k}_h{h}_minute{minute}_arct{at_arc}_arcw{AW_arc}\")\n",
    "                    else:\n",
    "                        # 打印出缺失的弧信息，以便进一步调试\n",
    "                        if (s, h, at_arc) not in f_ha:\n",
    "                            print(f\"Travel arc not found in f_ha: {(s, h, at_arc)}\")\n",
    "                        if (s, h, AW_arc) not in f_ha:\n",
    "                            print(f\"Waiting arc not found in f_ha: {(s, h, AW_arc)}\")\n"
   ]
  },
  {
   "cell_type": "code",
   "execution_count": null,
   "metadata": {},
   "outputs": [],
   "source": [
    "# 假定完全充电时间为15分钟，每分钟一个等待弧\n",
    "fully_charging_time = 15\n",
    "\n",
    "for s in range(S):\n",
    "    # 获取场景 s 的需求列表\n",
    "    for k in range(len(dfs[s])):\n",
    "        # 获取场景 s 的所有旅行弧\n",
    "        AT_arcs = [(s_arc, k, src, dst) for s_arc, k, src, dst in travel_arcs if s_arc == s]\n",
    "        if AT_arcs:\n",
    "            for h in range(H):\n",
    "                # 获取特定需求 k 的旅行弧\n",
    "                at_arc = AT_arcs[k]\n",
    "                dp = at_arc[3][0]  # 目的地点\n",
    "                et = at_arc[3][1]  # 结束时间\n",
    "\n",
    "                # 计算从 et 开始的 15 分钟的等待时间弧\n",
    "                for minute in range(fully_charging_time):\n",
    "                    t_start = et + minute  # 每个等待弧的开始时间\n",
    "                    t_end = t_start + 1  # 每个等待弧的结束时间（1 分钟后）\n",
    "\n",
    "                    # 创建一个等待弧\n",
    "                    AW_arc = (s, (dp, t_start), (dp, t_end))\n",
    "\n",
    "                    # 检查是否有相应的键\n",
    "                    travel_key = (s, h, at_arc)\n",
    "                    waiting_key = (s, h, AW_arc)\n",
    "\n",
    "                    if travel_key in f_ha and waiting_key in f_ha:\n",
    "                        # 添加约束：每一个旅行弧的流量 <= 对应的等待弧的流量\n",
    "                        m.addConstr(f_ha[travel_key] <= f_ha[waiting_key], \n",
    "                                    name=f\"charging_constraint_s{s}_k{k}_h{h}_minute{minute}_arct{at_arc}_arcw{AW_arc}\")\n",
    "                    else:\n",
    "                        # 输出详细的调试信息\n",
    "                        print(f\"Travel arc not found: {travel_key} in f_ha: {travel_key in f_ha}\")\n",
    "                        print(f\"Waiting arc not found: {waiting_key} in f_ha: {waiting_key in f_ha}\")\n"
   ]
  },
  {
   "cell_type": "code",
   "execution_count": 20,
   "metadata": {},
   "outputs": [],
   "source": [
    "# Before adding constraints\n",
    "initial_constr_count = m.NumConstrs"
   ]
  },
  {
   "cell_type": "code",
   "execution_count": 21,
   "metadata": {},
   "outputs": [],
   "source": [
    "m.update()"
   ]
  },
  {
   "cell_type": "code",
   "execution_count": null,
   "metadata": {},
   "outputs": [],
   "source": [
    "# After adding constraints\n",
    "final_constr_count = m.NumConstrs\n",
    "print(f'Number of constraints added: {final_constr_count - initial_constr_count}')"
   ]
  },
  {
   "cell_type": "code",
   "execution_count": null,
   "metadata": {},
   "outputs": [],
   "source": [
    "for constr in m.getConstrs():\n",
    "    print(f\"{constr.ConstrName}: {m.getRow(constr)} {constr.Sense} {constr.RHS}\")"
   ]
  },
  {
   "cell_type": "code",
   "execution_count": null,
   "metadata": {},
   "outputs": [],
   "source": [
    "# Solve the model\n",
    "m.optimize()\n",
    "\n",
    "# Check optimization status\n",
    "if m.Status == GRB.OPTIMAL:\n",
    "    print(\"Optimization was successful. Printing results.\")\n",
    "    # Initialize total_income\n",
    "    total_income = 0\n",
    "\n",
    "    for s in range(S):\n",
    "        income_per_scenario = 0\n",
    "        for k in range(len(dfs[s])):\n",
    "            x_value = x_k[s, k].X  # Get the decision variable value for scenario s and car type k\n",
    "            income_contribution = income_per_car * x_value\n",
    "            income_per_scenario += income_contribution\n",
    "            print(f\"x_k[{s}, {k}].X = {x_value}, contributes {income_contribution} to income\")\n",
    "\n",
    "        # Multiply by total demand level for the scenario\n",
    "        print(f\"Total income contribution (before scaling by demand) from scenario {s}: {income_per_scenario}\")\n",
    "        income_per_scenario *= total_demand_level[s]\n",
    "        total_income += income_per_scenario\n",
    "        print(f\"Total income contribution from scenario {s}: {income_per_scenario}\")\n",
    "\n",
    "    total_station_cost = sum(station_cost * y_i[i].X for i in range(I))\n",
    "    total_car_cost = car_cost * sum(L_i[i].X for i in range(I))\n",
    "    \n",
    "    print(f\"Total income: {total_income}\")\n",
    "    print(f\"Total station cost: {total_station_cost}\")\n",
    "    print(f\"Total car cost: {total_car_cost}\")\n",
    "    \n",
    "    objective_value = total_income - total_station_cost - total_car_cost\n",
    "    print(f\"Objective value (calculated): {objective_value}\")\n",
    "    print(f\"Objective value (from solver): {m.ObjVal}\")\n",
    "    \n",
    "    for i in range(I):\n",
    "        if y_i[i].X > 0.5:\n",
    "            print(f\"Build a charging station at location {i} with {L_i[i].X} cars.\")\n",
    "\n",
    "    # Collect and print all f_ha variables with values greater than 0.5\n",
    "    f_ha_results = []\n",
    "    for (s, h, arc), var in f_ha.items():\n",
    "        if var.X > 0.5:\n",
    "            result = [s, h, arc]\n",
    "            f_ha_results.append(result)\n",
    "\n",
    "    # Collect and print all x_k variables with values greater than 0.5\n",
    "    x_k_results = []\n",
    "    for (s, k), var in x_k.items():\n",
    "        if var.X > 0.5:\n",
    "            result = [s, k]\n",
    "            x_k_results.append(result)\n",
    "\n",
    "    # Collect and print all x_hk variables with values greater than 0.5\n",
    "    x_hk_results = []\n",
    "    for (s, k, h), var in x_hk.items():\n",
    "        if var.X > 0.5:\n",
    "            result = [s, k, h]\n",
    "            x_hk_results.append(result)\n",
    "else:\n",
    "    print(f\"Optimization issue with status code: {m.Status}\")\n"
   ]
  },
  {
   "cell_type": "code",
   "execution_count": null,
   "metadata": {},
   "outputs": [],
   "source": [
    "# Profit\n",
    "print(f'Profit is {total_income}')\n",
    "# Return on Investment (ROI)\n",
    "ROI = round(total_income / (total_station_cost + total_car_cost), 4)\n",
    "print(f'Return on Investment (ROI) is {ROI}')\n",
    "\n",
    "# Demand Satisfaction Ratio (DSR)\n",
    "dsr = 0\n",
    "for s in range(S):\n",
    "    count = len([item for item in x_k_results if item[0] == s])\n",
    "    dsr += (count / len(dfs[s])) * total_demand_level[s]\n",
    "    dsr = round(dsr, 4)\n",
    "print(f'Demand Satisfaction Ratio (DSR) is {dsr}')\n",
    "\n",
    "\n",
    "# Charging Station Utilization Rate (CSU)\n",
    "CSU_total = 0\n",
    "\n",
    "for s in range(S):  # Iterate over each scenario\n",
    "    scenario_utilization = 0  # Initialize the total utilization for the scenario\n",
    "\n",
    "    for i in range(I):  # Iterate over each station\n",
    "        avg_utilization_i = 0  # Initialize average utilization for station i\n",
    "        \n",
    "        for t in range(T):  # Iterate over each time period t\n",
    "            # Filter f_ha_results to find arcs associated with station i at time t in scenario s\n",
    "            result_fha = [\n",
    "                item for item in f_ha_results \n",
    "                if item[0] == s and len(item[2]) == 3 \n",
    "                and item[2][1][0] == i and item[2][1][1] == t\n",
    "            ]\n",
    "            \n",
    "            # Calculate the utilization rate at time t for station i\n",
    "            utilization_rate_t = sum(1 for _ in result_fha) / capacity  # Number of cars at station i at time t divided by capacity\n",
    "            \n",
    "            # Accumulate utilization for station i\n",
    "            avg_utilization_i += utilization_rate_t\n",
    "        \n",
    "        # Compute the average utilization for station i over all time periods T\n",
    "        avg_utilization_i /= T\n",
    "        \n",
    "        # Accumulate the utilization for the scenario\n",
    "        scenario_utilization += avg_utilization_i\n",
    "    \n",
    "    # Multiply the scenario utilization by its probability p_s and add to the total CSU\n",
    "    CSU_total += total_demand_level[s] * scenario_utilization\n",
    "CSU_total = round(CSU_total, 4)\n",
    "\n",
    "# Step 2: Print or return the final CSU (Charging Station Utilization)\n",
    "print(f\"Charging Station Utilization (CSU): {CSU_total}\")"
   ]
  },
  {
   "cell_type": "code",
   "execution_count": null,
   "metadata": {},
   "outputs": [],
   "source": []
  }
 ],
 "metadata": {
  "kernelspec": {
   "display_name": "Python 3",
   "language": "python",
   "name": "python3"
  },
  "language_info": {
   "codemirror_mode": {
    "name": "ipython",
    "version": 3
   },
   "file_extension": ".py",
   "mimetype": "text/x-python",
   "name": "python",
   "nbconvert_exporter": "python",
   "pygments_lexer": "ipython3",
   "version": "3.11.9"
  }
 },
 "nbformat": 4,
 "nbformat_minor": 2
}
