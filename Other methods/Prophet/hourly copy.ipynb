{
 "cells": [
  {
   "cell_type": "code",
   "execution_count": 1,
   "metadata": {},
   "outputs": [
    {
     "name": "stderr",
     "output_type": "stream",
     "text": [
      "C:\\Users\\yanzh\\AppData\\Local\\Packages\\PythonSoftwareFoundation.Python.3.11_qbz5n2kfra8p0\\LocalCache\\local-packages\\Python311\\site-packages\\tqdm\\auto.py:21: TqdmWarning: IProgress not found. Please update jupyter and ipywidgets. See https://ipywidgets.readthedocs.io/en/stable/user_install.html\n",
      "  from .autonotebook import tqdm as notebook_tqdm\n"
     ]
    }
   ],
   "source": [
    "import pandas as pd\n",
    "import math\n",
    "from prophet import Prophet\n",
    "import numpy as np"
   ]
  },
  {
   "cell_type": "code",
   "execution_count": 2,
   "metadata": {},
   "outputs": [],
   "source": [
    "# Read the data\n",
    "path = r\"C:\\Users\\yanzh\\Desktop\\code_and_data\\4. Deep learning part\\处理数据\\2015-2019 total trips.csv\"\n",
    "data = pd.read_csv(path)\n",
    "data['date'] = pd.to_datetime(data['date'])\n",
    "data = data[['date', 'total_trips']]\n",
    "data.columns = ['ds', 'y']\n",
    "\n",
    "# Define sliding window parameters\n",
    "num_windows = 5\n",
    "window_size = math.ceil(len(data) // (num_windows - 1.2))\n",
    "step_size = math.ceil(window_size * 0.7)\n",
    "\n",
    "# Initialize lists to store data\n",
    "windows = []\n",
    "train_dataset = []\n",
    "validation_dataset = []\n",
    "start = 0\n",
    "\n",
    "# Create sliding windows\n",
    "while start + step_size <= len(data):\n",
    "    end = start + window_size\n",
    "    window_data = data[start:end]\n",
    "    train_val_split = int(len(window_data) * 0.9)\n",
    "    train_data = window_data[:train_val_split]\n",
    "    validation_data = window_data[train_val_split:]\n",
    "\n",
    "    windows.append(window_data)\n",
    "    train_dataset.append(train_data)\n",
    "    validation_dataset.append(validation_data)\n",
    "\n",
    "    start += step_size"
   ]
  },
  {
   "cell_type": "code",
   "execution_count": 3,
   "metadata": {},
   "outputs": [
    {
     "name": "stderr",
     "output_type": "stream",
     "text": [
      "11:33:56 - cmdstanpy - INFO - Chain [1] start processing\n",
      "11:33:57 - cmdstanpy - INFO - Chain [1] done processing\n",
      "C:\\Users\\yanzh\\AppData\\Local\\Packages\\PythonSoftwareFoundation.Python.3.11_qbz5n2kfra8p0\\LocalCache\\local-packages\\Python311\\site-packages\\prophet\\forecaster.py:1854: FutureWarning: 'H' is deprecated and will be removed in a future version, please use 'h' instead.\n",
      "  dates = pd.date_range(\n",
      "11:33:58 - cmdstanpy - INFO - Chain [1] start processing\n",
      "11:33:59 - cmdstanpy - INFO - Chain [1] done processing\n",
      "C:\\Users\\yanzh\\AppData\\Local\\Packages\\PythonSoftwareFoundation.Python.3.11_qbz5n2kfra8p0\\LocalCache\\local-packages\\Python311\\site-packages\\prophet\\forecaster.py:1854: FutureWarning: 'H' is deprecated and will be removed in a future version, please use 'h' instead.\n",
      "  dates = pd.date_range(\n",
      "11:34:00 - cmdstanpy - INFO - Chain [1] start processing\n",
      "11:34:01 - cmdstanpy - INFO - Chain [1] done processing\n",
      "C:\\Users\\yanzh\\AppData\\Local\\Packages\\PythonSoftwareFoundation.Python.3.11_qbz5n2kfra8p0\\LocalCache\\local-packages\\Python311\\site-packages\\prophet\\forecaster.py:1854: FutureWarning: 'H' is deprecated and will be removed in a future version, please use 'h' instead.\n",
      "  dates = pd.date_range(\n",
      "11:34:02 - cmdstanpy - INFO - Chain [1] start processing\n",
      "11:34:03 - cmdstanpy - INFO - Chain [1] done processing\n",
      "C:\\Users\\yanzh\\AppData\\Local\\Packages\\PythonSoftwareFoundation.Python.3.11_qbz5n2kfra8p0\\LocalCache\\local-packages\\Python311\\site-packages\\prophet\\forecaster.py:1854: FutureWarning: 'H' is deprecated and will be removed in a future version, please use 'h' instead.\n",
      "  dates = pd.date_range(\n",
      "11:34:04 - cmdstanpy - INFO - Chain [1] start processing\n",
      "11:34:05 - cmdstanpy - INFO - Chain [1] done processing\n",
      "C:\\Users\\yanzh\\AppData\\Local\\Packages\\PythonSoftwareFoundation.Python.3.11_qbz5n2kfra8p0\\LocalCache\\local-packages\\Python311\\site-packages\\prophet\\forecaster.py:1854: FutureWarning: 'H' is deprecated and will be removed in a future version, please use 'h' instead.\n",
      "  dates = pd.date_range(\n"
     ]
    },
    {
     "name": "stdout",
     "output_type": "stream",
     "text": [
      "Average MAE on Test Set: 2366.5663\n",
      "Average MAPE on Test Set: 54.3048\n",
      "Average RMSE on Test Set: 3050.6197\n",
      "R^2 Score on Test Set: 0.6477\n"
     ]
    }
   ],
   "source": [
    "# Initialize lists to store evaluation metrics\n",
    "total_mae_losses = []\n",
    "total_mape_losses = []\n",
    "total_rmse_losses = []\n",
    "total_r2_scores = []\n",
    "\n",
    "# Fit the Prophet model and calculate evaluation metrics\n",
    "for i in range(num_windows):\n",
    "    model = Prophet()\n",
    "    model.fit(train_dataset[i])\n",
    "\n",
    "    # Make predictions\n",
    "    future = model.make_future_dataframe(periods=len(validation_dataset[i]), freq='H')\n",
    "    forecast = model.predict(future)\n",
    "    forecast_values = forecast['yhat'].iloc[-len(validation_dataset[i]):].values\n",
    "    actual_values = validation_dataset[i]['y'].values\n",
    "\n",
    "    mae_losses = []\n",
    "    mape_losses = []\n",
    "    rmse_losses = []\n",
    "    all_predicted = []\n",
    "    all_actual = []\n",
    "\n",
    "    for idx, forecast_value in enumerate(forecast_values):\n",
    "        actual_value = actual_values[idx]\n",
    "        all_actual.append(actual_value)\n",
    "        all_predicted.append(forecast_value)\n",
    "\n",
    "        # Calculate MAE\n",
    "        mae_loss = np.abs(actual_value - forecast_value)\n",
    "        mae_losses.append(mae_loss)\n",
    "\n",
    "        # Calculate MAPE\n",
    "        mape_loss = np.abs((actual_value - forecast_value) / actual_value)\n",
    "        mape_losses.append(mape_loss)\n",
    "\n",
    "        # Calculate RMSE\n",
    "        rmse_loss = np.square(actual_value - forecast_value)\n",
    "        rmse_losses.append(rmse_loss)\n",
    "    \n",
    "    # Convert lists to numpy arrays for R-squared calculation\n",
    "    all_predicted = np.array(all_predicted)\n",
    "    all_actual = np.array(all_actual)\n",
    "\n",
    "    # Calculate R-squared\n",
    "    ss_res = np.sum((all_actual - all_predicted) ** 2)\n",
    "    ss_tot = np.sum((all_actual - np.mean(all_actual)) ** 2)\n",
    "    r2 = 1 - (ss_res / ss_tot)\n",
    "\n",
    "    total_mae_losses.append(np.mean(mae_losses))\n",
    "    total_mape_losses.append(np.mean(mape_losses) * 100)\n",
    "    total_rmse_losses.append(np.sqrt(np.mean(rmse_losses)))\n",
    "    total_r2_scores.append(r2)\n",
    "\n",
    "# Calculate average of metrics across all windows\n",
    "average_mae_loss = np.mean(total_mae_losses)\n",
    "average_mape_loss = np.mean(total_mape_losses)\n",
    "average_rmse_loss = np.mean(total_rmse_losses)\n",
    "average_r2_score = np.mean(total_r2_scores)\n",
    "\n",
    "print(f'Average MAE on Test Set: {average_mae_loss:.4f}')\n",
    "print(f'Average MAPE on Test Set: {average_mape_loss:.4f}')\n",
    "print(f'Average RMSE on Test Set: {average_rmse_loss:.4f}')\n",
    "print(f'R^2 Score on Test Set: {average_r2_score:.4f}')"
   ]
  },
  {
   "cell_type": "code",
   "execution_count": null,
   "metadata": {},
   "outputs": [],
   "source": []
  }
 ],
 "metadata": {
  "kernelspec": {
   "display_name": "Python 3",
   "language": "python",
   "name": "python3"
  },
  "language_info": {
   "codemirror_mode": {
    "name": "ipython",
    "version": 3
   },
   "file_extension": ".py",
   "mimetype": "text/x-python",
   "name": "python",
   "nbconvert_exporter": "python",
   "pygments_lexer": "ipython3",
   "version": "3.11.9"
  }
 },
 "nbformat": 4,
 "nbformat_minor": 2
}
