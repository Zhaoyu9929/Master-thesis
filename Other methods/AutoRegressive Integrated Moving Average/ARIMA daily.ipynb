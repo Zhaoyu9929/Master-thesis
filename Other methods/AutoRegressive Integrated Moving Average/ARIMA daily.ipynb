{
 "cells": [
  {
   "cell_type": "code",
   "execution_count": 1,
   "metadata": {},
   "outputs": [],
   "source": [
    "import matplotlib.pyplot as plt\n",
    "import math\n",
    "import numpy as np\n",
    "import pandas as pd\n",
    "from statsmodels.tsa.arima.model import ARIMA"
   ]
  },
  {
   "cell_type": "code",
   "execution_count": 2,
   "metadata": {},
   "outputs": [],
   "source": [
    "path = r\"C:\\Users\\yanzh\\Desktop\\code_and_data\\4. Deep learning part\\处理数据\\daily\\2015-2019(daily_total_trips).csv\"\n",
    "data = pd.read_csv(path)\n",
    "data ['date'] = pd.to_datetime(data['date'])\n",
    "data = data['total_trips']\n",
    "\n",
    "num_windows = 5\n",
    "window_size = math.ceil(len(data) // (num_windows - 1.2))\n",
    "step_size = math.ceil(window_size * 0.7)\n",
    "\n",
    "windows = []\n",
    "train_dataset = []\n",
    "validation_dataset = []\n",
    "start = 0\n",
    "\n",
    "while start + step_size <= len(data):\n",
    "    end = start + window_size\n",
    "    window_data = data[start:end]\n",
    "    train_val_split = int(len(window_data) * 0.9)\n",
    "    train_data = window_data[:train_val_split]\n",
    "    validation_data = window_data[train_val_split:]\n",
    "\n",
    "    windows.append(window_data,)\n",
    "    train_dataset.append(train_data)\n",
    "    validation_dataset.append(validation_data)\n",
    "\n",
    "    start += step_size"
   ]
  },
  {
   "cell_type": "markdown",
   "metadata": {},
   "source": [
    "Therefore, q=5, p=3"
   ]
  },
  {
   "cell_type": "code",
   "execution_count": 3,
   "metadata": {},
   "outputs": [
    {
     "name": "stderr",
     "output_type": "stream",
     "text": [
      "C:\\Users\\yanzh\\AppData\\Local\\Packages\\PythonSoftwareFoundation.Python.3.11_qbz5n2kfra8p0\\LocalCache\\local-packages\\Python311\\site-packages\\statsmodels\\base\\model.py:607: ConvergenceWarning: Maximum Likelihood optimization failed to converge. Check mle_retvals\n",
      "  warnings.warn(\"Maximum Likelihood optimization failed to \"\n",
      "C:\\Users\\yanzh\\AppData\\Local\\Packages\\PythonSoftwareFoundation.Python.3.11_qbz5n2kfra8p0\\LocalCache\\local-packages\\Python311\\site-packages\\statsmodels\\base\\model.py:607: ConvergenceWarning: Maximum Likelihood optimization failed to converge. Check mle_retvals\n",
      "  warnings.warn(\"Maximum Likelihood optimization failed to \"\n",
      "C:\\Users\\yanzh\\AppData\\Local\\Packages\\PythonSoftwareFoundation.Python.3.11_qbz5n2kfra8p0\\LocalCache\\local-packages\\Python311\\site-packages\\statsmodels\\base\\model.py:607: ConvergenceWarning: Maximum Likelihood optimization failed to converge. Check mle_retvals\n",
      "  warnings.warn(\"Maximum Likelihood optimization failed to \"\n",
      "C:\\Users\\yanzh\\AppData\\Local\\Packages\\PythonSoftwareFoundation.Python.3.11_qbz5n2kfra8p0\\LocalCache\\local-packages\\Python311\\site-packages\\statsmodels\\base\\model.py:607: ConvergenceWarning: Maximum Likelihood optimization failed to converge. Check mle_retvals\n",
      "  warnings.warn(\"Maximum Likelihood optimization failed to \"\n"
     ]
    },
    {
     "name": "stdout",
     "output_type": "stream",
     "text": [
      "Average MAE on Test Set: 23865.3208\n",
      "Average MAPE on Test Set: 12.9175\n",
      "Average RMSE on Test Set: 31842.0265\n",
      "R^2 Score on Test Set: 0.0791\n"
     ]
    },
    {
     "name": "stderr",
     "output_type": "stream",
     "text": [
      "C:\\Users\\yanzh\\AppData\\Local\\Packages\\PythonSoftwareFoundation.Python.3.11_qbz5n2kfra8p0\\LocalCache\\local-packages\\Python311\\site-packages\\statsmodels\\base\\model.py:607: ConvergenceWarning: Maximum Likelihood optimization failed to converge. Check mle_retvals\n",
      "  warnings.warn(\"Maximum Likelihood optimization failed to \"\n"
     ]
    }
   ],
   "source": [
    "total_mae_losses = []\n",
    "total_mape_losses = []\n",
    "total_rmse_losses = []\n",
    "total_r2_scores = []\n",
    "\n",
    "# Fit the ARIMA model\n",
    "for i in range(5):\n",
    "    model = ARIMA(train_dataset[i], order=(3, 0, 5))\n",
    "    model_fit = model.fit()\n",
    "\n",
    "    forecast_size = len(validation_dataset[i])\n",
    "    forecast = model_fit.forecast(steps=forecast_size)\n",
    "    forecast = np.ceil(forecast).astype(int)\n",
    "\n",
    "    mae_losses = []\n",
    "    mape_losses = []\n",
    "    rmse_losses = []\n",
    "    all_predicted = []\n",
    "    all_actual = []\n",
    "\n",
    "    for idx, forecast_value in enumerate(forecast):\n",
    "        actual_value = validation_dataset[i].iloc[idx]\n",
    "        all_actual.append(actual_value)\n",
    "        all_predicted.append(forecast_value)\n",
    "\n",
    "        # Calculate MAE\n",
    "        mae_loss = np.abs(actual_value - forecast_value)\n",
    "        mae_losses.append(mae_loss)\n",
    "\n",
    "        # Calculate MAPE\n",
    "        mape_loss = np.abs((actual_value - forecast_value) / actual_value)\n",
    "        mape_losses.append(mape_loss)\n",
    "\n",
    "        # Calculate RMSE\n",
    "        rmse_loss = np.square(actual_value - forecast_value)\n",
    "        rmse_losses.append(rmse_loss)\n",
    "    \n",
    "    # Convert lists to numpy arrays for R-squared calculation\n",
    "    all_predicted = np.array(all_predicted)\n",
    "    all_actual = np.array(all_actual)\n",
    "\n",
    "    # Calculate R-squared\n",
    "    ss_res = np.sum((all_actual - all_predicted) ** 2)\n",
    "    ss_tot = np.sum((all_actual - np.mean(all_actual)) ** 2)\n",
    "    r2 = 1 - (ss_res / ss_tot)\n",
    "\n",
    "    total_mae_losses.append(np.mean(mae_losses))\n",
    "    total_mape_losses.append(np.mean(mape_losses) * 100)\n",
    "    total_rmse_losses.append(np.sqrt(np.mean(rmse_losses)))\n",
    "    total_r2_scores.append(r2)\n",
    "\n",
    "# Calculate average of metrics across all windows\n",
    "average_mae_loss = np.mean(total_mae_losses)\n",
    "average_mape_loss = np.mean(total_mape_losses)\n",
    "average_rmse_loss = np.mean(total_rmse_losses)\n",
    "average_r2_score = np.mean(total_r2_scores)\n",
    "\n",
    "print(f'Average MAE on Test Set: {average_mae_loss:.4f}')\n",
    "print(f'Average MAPE on Test Set: {average_mape_loss:.4f}')\n",
    "print(f'Average RMSE on Test Set: {average_rmse_loss:.4f}')\n",
    "print(f'R^2 Score on Test Set: {average_r2_score:.4f}')"
   ]
  },
  {
   "cell_type": "markdown",
   "metadata": {},
   "source": [
    "Next is seasonal ARIMA model"
   ]
  },
  {
   "cell_type": "code",
   "execution_count": 3,
   "metadata": {},
   "outputs": [
    {
     "name": "stderr",
     "output_type": "stream",
     "text": [
      "C:\\Users\\yanzh\\AppData\\Local\\Packages\\PythonSoftwareFoundation.Python.3.11_qbz5n2kfra8p0\\LocalCache\\local-packages\\Python311\\site-packages\\statsmodels\\base\\model.py:607: ConvergenceWarning: Maximum Likelihood optimization failed to converge. Check mle_retvals\n",
      "  warnings.warn(\"Maximum Likelihood optimization failed to \"\n",
      "C:\\Users\\yanzh\\AppData\\Local\\Packages\\PythonSoftwareFoundation.Python.3.11_qbz5n2kfra8p0\\LocalCache\\local-packages\\Python311\\site-packages\\statsmodels\\base\\model.py:607: ConvergenceWarning: Maximum Likelihood optimization failed to converge. Check mle_retvals\n",
      "  warnings.warn(\"Maximum Likelihood optimization failed to \"\n",
      "C:\\Users\\yanzh\\AppData\\Local\\Packages\\PythonSoftwareFoundation.Python.3.11_qbz5n2kfra8p0\\LocalCache\\local-packages\\Python311\\site-packages\\statsmodels\\base\\model.py:607: ConvergenceWarning: Maximum Likelihood optimization failed to converge. Check mle_retvals\n",
      "  warnings.warn(\"Maximum Likelihood optimization failed to \"\n",
      "C:\\Users\\yanzh\\AppData\\Local\\Packages\\PythonSoftwareFoundation.Python.3.11_qbz5n2kfra8p0\\LocalCache\\local-packages\\Python311\\site-packages\\statsmodels\\base\\model.py:607: ConvergenceWarning: Maximum Likelihood optimization failed to converge. Check mle_retvals\n",
      "  warnings.warn(\"Maximum Likelihood optimization failed to \"\n",
      "C:\\Users\\yanzh\\AppData\\Local\\Packages\\PythonSoftwareFoundation.Python.3.11_qbz5n2kfra8p0\\LocalCache\\local-packages\\Python311\\site-packages\\statsmodels\\base\\model.py:607: ConvergenceWarning: Maximum Likelihood optimization failed to converge. Check mle_retvals\n",
      "  warnings.warn(\"Maximum Likelihood optimization failed to \"\n"
     ]
    },
    {
     "name": "stdout",
     "output_type": "stream",
     "text": [
      "Average MAE on Test Set: 29309.8167\n",
      "Average MAPE on Test Set: 14.3552\n",
      "Average RMSE on Test Set: 37955.5427\n",
      "R^2 Score on Test Set: -0.4545\n"
     ]
    }
   ],
   "source": [
    "from statsmodels.tsa.statespace.sarimax import SARIMAX\n",
    "total_mae_losses = []\n",
    "total_mape_losses = []\n",
    "total_rmse_losses = []\n",
    "total_r2_scores = []\n",
    "\n",
    "# Fit the ARIMA model\n",
    "for i in range(5):\n",
    "    model = SARIMAX(train_dataset[i], order=(3, 0, 5), seasonal_order=(1, 1, 1, 7))\n",
    "    model_fit = model.fit()\n",
    "\n",
    "    forecast_size = len(validation_dataset[i])\n",
    "    forecast = model_fit.forecast(steps=forecast_size)\n",
    "    forecast = np.ceil(forecast).astype(int)\n",
    "\n",
    "    mae_losses = []\n",
    "    mape_losses = []\n",
    "    rmse_losses = []\n",
    "    all_predicted = []\n",
    "    all_actual = []\n",
    "\n",
    "    for idx, forecast_value in enumerate(forecast):\n",
    "        actual_value = validation_dataset[i].iloc[idx]\n",
    "        all_actual.append(actual_value)\n",
    "        all_predicted.append(forecast_value)\n",
    "\n",
    "        # Calculate MAE\n",
    "        mae_loss = np.abs(actual_value - forecast_value)\n",
    "        mae_losses.append(mae_loss)\n",
    "\n",
    "        # Calculate MAPE\n",
    "        mape_loss = np.abs((actual_value - forecast_value) / actual_value)\n",
    "        mape_losses.append(mape_loss)\n",
    "\n",
    "        # Calculate RMSE\n",
    "        rmse_loss = np.square(actual_value - forecast_value)\n",
    "        rmse_losses.append(rmse_loss)\n",
    "    \n",
    "    # Convert lists to numpy arrays for R-squared calculation\n",
    "    all_predicted = np.array(all_predicted)\n",
    "    all_actual = np.array(all_actual)\n",
    "\n",
    "    # Calculate R-squared\n",
    "    ss_res = np.sum((all_actual - all_predicted) ** 2)\n",
    "    ss_tot = np.sum((all_actual - np.mean(all_actual)) ** 2)\n",
    "    r2 = 1 - (ss_res / ss_tot)\n",
    "\n",
    "    total_mae_losses.append(np.mean(mae_losses))\n",
    "    total_mape_losses.append(np.mean(mape_losses) * 100)\n",
    "    total_rmse_losses.append(np.sqrt(np.mean(rmse_losses)))\n",
    "    total_r2_scores.append(r2)\n",
    "\n",
    "# Calculate average of metrics across all windows\n",
    "average_mae_loss = np.mean(total_mae_losses)\n",
    "average_mape_loss = np.mean(total_mape_losses)\n",
    "average_rmse_loss = np.mean(total_rmse_losses)\n",
    "average_r2_score = np.mean(total_r2_scores)\n",
    "\n",
    "print(f'Average MAE on Test Set: {average_mae_loss:.4f}')\n",
    "print(f'Average MAPE on Test Set: {average_mape_loss:.4f}')\n",
    "print(f'Average RMSE on Test Set: {average_rmse_loss:.4f}')\n",
    "print(f'R^2 Score on Test Set: {average_r2_score:.4f}')"
   ]
  },
  {
   "cell_type": "code",
   "execution_count": null,
   "metadata": {},
   "outputs": [],
   "source": []
  }
 ],
 "metadata": {
  "kernelspec": {
   "display_name": "Python 3",
   "language": "python",
   "name": "python3"
  },
  "language_info": {
   "codemirror_mode": {
    "name": "ipython",
    "version": 3
   },
   "file_extension": ".py",
   "mimetype": "text/x-python",
   "name": "python",
   "nbconvert_exporter": "python",
   "pygments_lexer": "ipython3",
   "version": "3.11.9"
  }
 },
 "nbformat": 4,
 "nbformat_minor": 2
}
